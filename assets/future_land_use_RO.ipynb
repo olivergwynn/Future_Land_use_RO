{
 "cells": [
  {
   "cell_type": "markdown",
   "id": "fc5b15b1-ddd8-4b4f-b64a-11edc357ae86",
   "metadata": {},
   "source": [
    "# Future Land Use RO"
   ]
  },
  {
   "cell_type": "markdown",
   "id": "b81780ee-1d31-4634-a8d4-e79ed9af240c",
   "metadata": {},
   "source": [
    "## Introduction"
   ]
  },
  {
   "cell_type": "markdown",
   "id": "a69b6a72-f5d2-415e-8334-3b9ab1d7a5dd",
   "metadata": {},
   "source": [
    "This notebook demonstrates the process of preparing a Research Object Crate (RO-Crate) for the Future Land Use dataset. The dataset contains spatial and attribute information, which will be split into two separate files: a Shapefile containing just the geographies and a unique identifier, and a CSV file containing the unique identifier and the remaining fields. The CSV file will be structured according to a Frictionless table schema to ensure consistency and quality. Additionally, the notebook will export the resulting data as a GeoPackage for further use."
   ]
  },
  {
   "cell_type": "markdown",
   "id": "b2f990fc-5615-4d62-997a-9f05e1fa8c1b",
   "metadata": {},
   "source": [
    "## Process Outline"
   ]
  },
  {
   "cell_type": "markdown",
   "id": "5492c047-7af3-4820-a5ae-0c4e03117ac3",
   "metadata": {},
   "source": [
    "The process carried out by this workflow can be described as follows:\n",
    "  - Set Up: Import necessary packages and define parameters for file paths and output locations.\n",
    "  - Extract and Split Data:\n",
    "    -  Extract the ZIP file containing the Future Land Use dataset.\n",
    "    -  Read the CSV file and split it into two separate files: one for geographies and one for attributes. \n",
    "  - Prepare RO-Crate:\n",
    "    -  Create a Frictionless table schema for the attributes CSV file.\n",
    "    -  Generate RO-Crate metadata and save it as a JSON file.\n",
    "    -  Package the CSV files, schema, and metadata into a ZIP file to create the RO-Crate.   \n",
    "  -  Export GeoPackage:\n",
    "    -  Read the Shapefile and convert its coordinate reference system to Ohio State Plane South (EPSG:3735).\n",
    "    -  Join the attributes CSV file with the Shapefile and export the resulting data as a GeoPackage."
   ]
  },
  {
   "cell_type": "markdown",
   "id": "93af112a-e926-4560-a8be-b6c991f85508",
   "metadata": {},
   "source": [
    "## Set Up"
   ]
  },
  {
   "cell_type": "markdown",
   "id": "30fd4d88-ab48-41c0-9d2b-1a2370a3bc80",
   "metadata": {},
   "source": [
    "### Import packages"
   ]
  },
  {
   "cell_type": "code",
   "execution_count": 9,
   "id": "63d0c735-dd75-4faf-b72c-a4b583580925",
   "metadata": {},
   "outputs": [],
   "source": [
    "import os\n",
    "import pandas as pd\n",
    "import geopandas as gpd\n",
    "import zipfile\n",
    "import json"
   ]
  },
  {
   "cell_type": "markdown",
   "id": "c33e5b6d-7960-41f6-8bf3-595558ef5952",
   "metadata": {},
   "source": [
    "### Parameters"
   ]
  },
  {
   "cell_type": "markdown",
   "id": "3a1da9c2-1ae6-475b-9015-96c9d829dde9",
   "metadata": {},
   "source": [
    "#### Static Parameters"
   ]
  },
  {
   "cell_type": "code",
   "execution_count": 10,
   "id": "2154c339-bb80-404a-a58f-e9035fbb150a",
   "metadata": {},
   "outputs": [],
   "source": [
    "# Define directories and file paths\n",
    "OUTPUT_DIR = os.path.normpath(\"./output_data\")\n",
    "INPUT_DIR = os.path.normpath(\"./input_data\")\n",
    "\n",
    "# Define file name and path for input zip, csv, and xlsx\n",
    "ZIP_NAME = 'Future_Land_use__MTP2024_parcels_Symbology.zip'\n",
    "ZIP_PATH = os.path.join(INPUT_DIR, ZIP_NAME)\n",
    "FUTURE_LAND_USE_INPUT_NAME = \"Future_Land_use__MTP2024_parcels_Symbology.csv\"\n",
    "FUTURE_LAND_USE_INPUT_PATH = os.path.join(INPUT_DIR, FUTURE_LAND_USE_INPUT_NAME)\n",
    "TYPE_DESCIP_NAME = \"LU_Standardized LandUse Type Descriptions.xlsx\"\n",
    "TYPE_DESCIP_PATH = os.path.join(INPUT_DIR, TYPE_DESCIP_NAME)\n",
    "\n",
    "# Define file name and path for split xlsx land use definitions\n",
    "TYPE_DESCIP_LUT_NAME = 'Land_Use_Types_descriptions.csv'\n",
    "TYPE_DESCIP_LUT_PATH = os.path.join(OUTPUT_DIR, TYPE_DESCIP_LUT_NAME)\n",
    "TYPE_DESCIP_MIXU_NAME = 'Mixed_Use_descriptions.csv'\n",
    "TYPE_DESCIP_MIXU_PATH = os.path.join(OUTPUT_DIR, TYPE_DESCIP_MIXU_NAME)\n",
    "\n",
    "# Define folder name and path for all extracted files from zip\n",
    "EXTRACT_NAME = 'extracted_files'\n",
    "EXTRACT_PATH = os.path.join(INPUT_DIR, EXTRACT_NAME)\n",
    "\n",
    "# Define file name and path for extracted shapefile\n",
    "SHAPEFILE_NAME = 'Future_Land_use__MTP2024_parcels_Symbology.shp'\n",
    "SHAPEFILE_PATH = os.path.join(EXTRACT_PATH, SHAPEFILE_NAME)\n",
    "\n",
    "# Define file name and path for csv split by geography and other attributes\n",
    "FUTURE_LAND_USE_GEO_OUTPUT_NAME = \"Future_Land_use__geography.csv\"\n",
    "FUTURE_LAND_USE_GEO_OUTPUT_PATH = os.path.join(OUTPUT_DIR, FUTURE_LAND_USE_GEO_OUTPUT_NAME)\n",
    "FUTURE_LAND_USE_ATTRIB_OUTPUT_NAME = \"Future_Land_use__attributes.csv\"\n",
    "FUTURE_LAND_USE_ATTRIB_OUTPUT_PATH = os.path.join(OUTPUT_DIR, FUTURE_LAND_USE_ATTRIB_OUTPUT_NAME)\n",
    "\n",
    "# Define file name and path for zipped RO-Crate\n",
    "RO_CRATE_NAME = 'future-land-use-crated.zip'\n",
    "RO_CRATE_PATH = os.path.join(OUTPUT_DIR, RO_CRATE_NAME)\n",
    "\n",
    "# Define file name and path for RO-Crate metadata\n",
    "RO_CRATE_METADATA_NAME = 'ro-crate-metadata.json'\n",
    "RO_CRATE_METADATA_PATH = os.path.join(OUTPUT_DIR, RO_CRATE_METADATA_NAME)\n",
    "\n",
    "# RO-Crate metadata definition\n",
    "RO_CRATE_METADATA = {\n",
    "    \"@context\": \"https://w3id.org/ro/crate/1.1/context\",\n",
    "    \"@graph\": [\n",
    "        {\n",
    "            \"@id\": \"ro-crate-metadata.json\",\n",
    "            \"@type\": \"CreativeWork\",\n",
    "            \"conformsTo\": {\"@id\": \"https://w3id.org/ro/crate/1.1\"},\n",
    "            \"about\": {\"@id\": \"./\"}\n",
    "        },\n",
    "        {\n",
    "            \"@id\": \"./\",\n",
    "            \"@type\": \"Dataset\",\n",
    "            \"name\": \"Future Land Use Data\",\n",
    "            \"description\": \"Dataset containing future land use data with spatial and attribute information.\",\n",
    "            \"hasPart\": [\n",
    "                {\"@id\": \"Future_Land_use__geography.csv\"},\n",
    "                {\"@id\": \"Future_Land_use__attributes.csv\"},\n",
    "                {\"@id\": \"attributes_schema.json\"}\n",
    "            ]\n",
    "        },\n",
    "        {\n",
    "            \"@id\": \"Future_Land_use__geography.csv\",\n",
    "            \"@type\": \"File\",\n",
    "            \"name\": \"Shapefile Data CSV\",\n",
    "            \"encodingFormat\": \"text/csv\"\n",
    "        },\n",
    "        {\n",
    "            \"@id\": \"Future_Land_use__attributes.csv\",\n",
    "            \"@type\": \"File\",\n",
    "            \"name\": \"Attributes Data CSV\",\n",
    "            \"encodingFormat\": \"text/csv\"\n",
    "        },\n",
    "        {\n",
    "            \"@id\": \"attributes_schema.json\",\n",
    "            \"@type\": \"File\",\n",
    "            \"name\": \"Attributes Schema\",\n",
    "            \"encodingFormat\": \"application/json\"\n",
    "        }\n",
    "    ]\n",
    "}\n",
    "\n",
    "# Define file name and path for GeoPackage\n",
    "OUTPUT_GEOPACKAGE_NAME = 'Future_Land_use.gpkg'\n",
    "OUTPUT_GEOPACKAGE_PATH = os.path.join(OUTPUT_DIR, OUTPUT_GEOPACKAGE_NAME)\n",
    "\n",
    "# Define file name and path for attributes schema\n",
    "ATTRIBUTES_SCHEMA_NAME = 'attributes_schema.yaml'\n",
    "ATTRIBUTES_SCHEMA_PATH = os.path.join(OUTPUT_DIR, ATTRIBUTES_SCHEMA_NAME)\n",
    "\n",
    "# Create output directory if it doesn't exist\n",
    "os.makedirs(OUTPUT_DIR, exist_ok=True)"
   ]
  },
  {
   "cell_type": "markdown",
   "id": "0679d8c8-2a0f-4ab6-8e8f-cacb576001c6",
   "metadata": {},
   "source": [
    "### Define Inputs"
   ]
  },
  {
   "cell_type": "code",
   "execution_count": 11,
   "id": "cb96e6ab-13c1-46c9-8aca-0c764cd8a867",
   "metadata": {},
   "outputs": [
    {
     "name": "stdout",
     "output_type": "stream",
     "text": [
      "Zipped Future Land Use shapefile stored as: input_data\\Future_Land_use__MTP2024_parcels_Symbology.zip\n",
      "Unzipped Future Land Use shapefiles will be stored in: input_data\\extracted_files\n",
      "Future Land Use '.csv' stored as: input_data\\Future_Land_use__MTP2024_parcels_Symbology.csv\n",
      "Land Use Type Desciptions stored as: input_data\\LU_Standardized LandUse Type Descriptions.xlsx\n"
     ]
    }
   ],
   "source": [
    "print(\"Zipped Future Land Use shapefile stored as: {}\".format(ZIP_PATH))\n",
    "print(\"Unzipped Future Land Use shapefiles will be stored in: {}\".format(EXTRACT_PATH))\n",
    "print(\"Future Land Use '.csv' stored as: {}\".format(FUTURE_LAND_USE_INPUT_PATH))\n",
    "print(\"Land Use Type Desciptions stored as: {}\".format(TYPE_DESCIP_PATH))"
   ]
  },
  {
   "cell_type": "markdown",
   "id": "1174ac7d-b778-4d0f-92d2-ee26328ab416",
   "metadata": {},
   "source": [
    "### Define Outputs"
   ]
  },
  {
   "cell_type": "code",
   "execution_count": 12,
   "id": "530351e2-e5b2-420f-854d-b97236b3353a",
   "metadata": {},
   "outputs": [
    {
     "name": "stdout",
     "output_type": "stream",
     "text": [
      "Land Use Type Desciptions stored as: output_data\\Land_Use_Types_descriptions.csv\n",
      "Mixed Use Type Desciptions stored as: output_data\\Mixed_Use_descriptions.csv\n",
      "Geographic split '.csv' stored as: output_data\\Future_Land_use__geography.csv\n",
      "Non-geographic split '.csv' stored as: output_data\\Future_Land_use__attributes.csv\n",
      "Attribute schema stored as: output_data\\attributes_schema.yaml\n",
      "RO-Crate metadata stored as: output_data\\ro-crate-metadata.json\n",
      "Zipped RO-Crate stored as: output_data\\future-land-use-crated.zip\n",
      "GeoPackage stored as: output_data\\Future_Land_use.gpkg\n"
     ]
    }
   ],
   "source": [
    "print(\"Land Use Type Desciptions stored as: {}\".format(TYPE_DESCIP_LUT_PATH))\n",
    "print(\"Mixed Use Type Desciptions stored as: {}\".format(TYPE_DESCIP_MIXU_PATH))\n",
    "print(\"Geographic split '.csv' stored as: {}\".format(FUTURE_LAND_USE_GEO_OUTPUT_PATH))\n",
    "print(\"Non-geographic split '.csv' stored as: {}\".format(FUTURE_LAND_USE_ATTRIB_OUTPUT_PATH))\n",
    "print(\"Attribute schema stored as: {}\".format(ATTRIBUTES_SCHEMA_PATH))\n",
    "print(\"RO-Crate metadata stored as: {}\".format(RO_CRATE_METADATA_PATH))\n",
    "print(\"Zipped RO-Crate stored as: {}\".format(RO_CRATE_PATH))\n",
    "print(\"GeoPackage stored as: {}\".format(OUTPUT_GEOPACKAGE_PATH))"
   ]
  },
  {
   "cell_type": "markdown",
   "id": "c202f0d7-89b5-4a74-8f72-4c9032770350",
   "metadata": {},
   "source": [
    "## Code!"
   ]
  },
  {
   "cell_type": "markdown",
   "id": "07ecc742-5661-4e62-b069-f8db2aaf2afe",
   "metadata": {},
   "source": [
    "### Step 1: Extract the ZIP file, split the CSV and Excel file"
   ]
  },
  {
   "cell_type": "code",
   "execution_count": 13,
   "id": "7c7002ee-b4c5-4ec6-9d04-d6ff9dcb4b2a",
   "metadata": {},
   "outputs": [],
   "source": [
    "# Extract ZIP file\n",
    "with zipfile.ZipFile(ZIP_PATH, 'r') as zip_ref:\n",
    "    zip_ref.extractall(EXTRACT_PATH)\n",
    "\n",
    "# Define data types for the CSV file\n",
    "dtype = {\n",
    "    'OBJECTID': 'int',\n",
    "    'ExLU21': 'str',\n",
    "    'FutLU21': 'str',\n",
    "    'MIXcode': 'str',\n",
    "    'JoinAll': 'str',\n",
    "    'Place': 'str',\n",
    "    'last_edited_date': 'str',\n",
    "    'County': 'str',\n",
    "    'FUTsimple': 'str'\n",
    "}\n",
    "\n",
    "# Load the CSV file with specified data types\n",
    "data_df = pd.read_csv(FUTURE_LAND_USE_INPUT_PATH, dtype=dtype)\n",
    "\n",
    "# Split the dataset into two CSVs using the correct column names\n",
    "shapefile_df = data_df[['OBJECTID','Shape__Area', 'Shape__Length']]\n",
    "attributes_df = data_df.drop(columns=['Shape__Area', 'Shape__Length'])\n",
    "attributes_df['OBJECTID'] = data_df['OBJECTID']  # Add unique identifier back\n",
    "\n",
    "# Save the CSVs\n",
    "shapefile_df.to_csv(FUTURE_LAND_USE_GEO_OUTPUT_PATH, index=False)\n",
    "attributes_df.to_csv(FUTURE_LAND_USE_ATTRIB_OUTPUT_PATH, index=False)\n",
    "\n",
    "attributes_df.head()\n",
    "shapefile_df.head()\n",
    "\n",
    "# Load each sheet into a DataFrame\n",
    "land_use_df = pd.read_excel(TYPE_DESCIP_PATH, sheet_name='Land Use Types')\n",
    "mixed_use_df = pd.read_excel(TYPE_DESCIP_PATH, sheet_name='Mixed Use')\n",
    "\n",
    "land_use_df.to_csv(TYPE_DESCIP_LUT_PATH, index=False)\n",
    "mixed_use_df.to_csv(TYPE_DESCIP_MIXU_PATH, index=False)"
   ]
  },
  {
   "cell_type": "markdown",
   "id": "c8b36528-3ad8-4552-bcc3-3f7f127c34c2",
   "metadata": {},
   "source": [
    "### Step 2: Preparing RO Crate"
   ]
  },
  {
   "cell_type": "code",
   "execution_count": 14,
   "id": "7430f3c4-a27a-4702-8471-b95f8e0910a9",
   "metadata": {},
   "outputs": [],
   "source": [
    "# Save the RO-Crate metadata to a JSON file\n",
    "with open(RO_CRATE_METADATA_PATH, 'w') as f:\n",
    "    json.dump(RO_CRATE_METADATA, f, indent=4)\n",
    "\n",
    "# Package the RO-Crate into a ZIP file\n",
    "with zipfile.ZipFile(RO_CRATE_PATH, 'w') as ro_zip:\n",
    "    ro_zip.write(FUTURE_LAND_USE_GEO_OUTPUT_PATH, 'Future_Land_use__geography.csv')\n",
    "    ro_zip.write(FUTURE_LAND_USE_ATTRIB_OUTPUT_PATH, 'Future_Land_use__attributes.csv')\n",
    "    ro_zip.write(ATTRIBUTES_SCHEMA_PATH, 'attributes_schema.yaml')\n",
    "    ro_zip.write(RO_CRATE_METADATA_PATH, 'ro-crate-metadata.json')"
   ]
  },
  {
   "cell_type": "markdown",
   "id": "bf05d9dd-845b-47a9-8b91-481ad464e400",
   "metadata": {},
   "source": [
    "### Step 3: Exporting standard GeoPackage from Shapefile geodataframe and CSV dataframe"
   ]
  },
  {
   "cell_type": "code",
   "execution_count": 15,
   "id": "7b6834f5-1a8a-4349-a990-a656be7b6717",
   "metadata": {},
   "outputs": [
    {
     "name": "stdout",
     "output_type": "stream",
     "text": [
      "GeoPackage has been saved to output_data\\Future_Land_use.gpkg\n"
     ]
    }
   ],
   "source": [
    "# Read the CSV file as a dataframe\n",
    "attributes_df = pd.read_csv(FUTURE_LAND_USE_ATTRIB_OUTPUT_PATH, dtype=dtype)\n",
    "\n",
    "# Read the Shapefile as a geodataframe\n",
    "shapefile_gdf = gpd.read_file(SHAPEFILE_PATH)\n",
    "\n",
    "# Convert the Shapefile to Ohio State Plane South coordinate reference system\n",
    "shapefile_gdf = shapefile_gdf.to_crs(epsg=3735)\n",
    "\n",
    "# Join the CSV dataframe to the Shapefile geodataframe using the unique identifier field\n",
    "merged_gdf = shapefile_gdf.merge(attributes_df, on='OBJECTID')\n",
    "\n",
    "# Export the resulting geodataframe as a GeoPackage\n",
    "merged_gdf.to_file(OUTPUT_GEOPACKAGE_PATH, driver='GPKG')\n",
    "\n",
    "print(f\"GeoPackage has been saved to {OUTPUT_GEOPACKAGE_PATH}\")"
   ]
  },
  {
   "cell_type": "markdown",
   "id": "b9c635ff-c7e9-4bc2-8ee2-093fe76292e4",
   "metadata": {},
   "source": [
    "### Step 4: Preview Outputs"
   ]
  },
  {
   "cell_type": "code",
   "execution_count": 16,
   "id": "ac562ee2-a8ad-45b7-8e1d-56669935b404",
   "metadata": {},
   "outputs": [
    {
     "name": "stdout",
     "output_type": "stream",
     "text": [
      "All expected output files are present.\n"
     ]
    }
   ],
   "source": [
    "# Check for the presence of the output files\n",
    "output_files = [\n",
    "    ATTRIBUTES_SCHEMA_PATH,\n",
    "    FUTURE_LAND_USE_ATTRIB_OUTPUT_PATH,\n",
    "    FUTURE_LAND_USE_GEO_OUTPUT_PATH,\n",
    "    RO_CRATE_PATH,\n",
    "    OUTPUT_GEOPACKAGE_PATH\n",
    "]\n",
    "\n",
    "missing_files = [file for file in output_files if not os.path.exists(file)]\n",
    "if missing_files:\n",
    "    print(\"The following expected output files are missing:\")\n",
    "    for file in missing_files:\n",
    "        print(file)\n",
    "else:\n",
    "    print(\"All expected output files are present.\")"
   ]
  }
 ],
 "metadata": {
  "kernelspec": {
   "display_name": "Python 3 (ipykernel)",
   "language": "python",
   "name": "python3"
  },
  "language_info": {
   "codemirror_mode": {
    "name": "ipython",
    "version": 3
   },
   "file_extension": ".py",
   "mimetype": "text/x-python",
   "name": "python",
   "nbconvert_exporter": "python",
   "pygments_lexer": "ipython3",
   "version": "3.12.4"
  }
 },
 "nbformat": 4,
 "nbformat_minor": 5
}

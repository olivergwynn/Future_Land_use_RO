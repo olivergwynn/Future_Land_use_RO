{
 "cells": [
  {
   "cell_type": "markdown",
   "id": "fc5b15b1-ddd8-4b4f-b64a-11edc357ae86",
   "metadata": {},
   "source": [
    "# Future Land Use RO"
   ]
  },
  {
   "cell_type": "markdown",
   "id": "b81780ee-1d31-4634-a8d4-e79ed9af240c",
   "metadata": {},
   "source": [
    "## Introduction"
   ]
  },
  {
   "cell_type": "markdown",
   "id": "a69b6a72-f5d2-415e-8334-3b9ab1d7a5dd",
   "metadata": {},
   "source": [
    "This notebook demonstrates the process of preparing a Research Object Crate (RO-Crate) for the Future Land Use dataset. The dataset contains spatial and attribute information. The spatial data will be stored in a Shapefile containing just the geographies and a unique identifier, and the attribute data will be stored in a CSV file containing the unique identifier and the remaining fields. The CSV file will be structured according to a Frictionless table schema to ensure consistency and quality. Additionally, the notebook will export the resulting data as a GeoPackage for further use. The entire process includes data extraction, transformation, validation, and packaging into a research object crate."
   ]
  },
  {
   "cell_type": "markdown",
   "id": "b2f990fc-5615-4d62-997a-9f05e1fa8c1b",
   "metadata": {},
   "source": [
    "## Process Outline"
   ]
  },
  {
   "cell_type": "markdown",
   "id": "5492c047-7af3-4820-a5ae-0c4e03117ac3",
   "metadata": {},
   "source": [
    "The process carried out by this workflow can be described as follows:\n",
    "  - Set Up: Import necessary packages and define parameters for file paths and output locations.\n",
    "  - Extract and Split Data:\n",
    "    -  Extract the ZIP file containing the Future Land Use dataset.\n",
    "    -  Read the CSV file and split it into two separate files: one for geographies and one for attributes. \n",
    "  - Prepare RO-Crate:\n",
    "    -  Create a Frictionless table schema for the attributes CSV file.\n",
    "    -  Generate RO-Crate metadata and save it as a JSON file.\n",
    "    -  Package the CSV files, schema, and metadata into a ZIP file to create the RO-Crate.   \n",
    "  -  Export GeoPackage:\n",
    "    -  Read the Shapefile and convert its coordinate reference system to Ohio State Plane South (EPSG:3735).\n",
    "    -  Join the attributes CSV file with the Shapefile and export the resulting data as a GeoPackage."
   ]
  },
  {
   "cell_type": "markdown",
   "id": "93af112a-e926-4560-a8be-b6c991f85508",
   "metadata": {},
   "source": [
    "## Set Up"
   ]
  },
  {
   "cell_type": "markdown",
   "id": "30fd4d88-ab48-41c0-9d2b-1a2370a3bc80",
   "metadata": {},
   "source": [
    "### Import packages"
   ]
  },
  {
   "cell_type": "code",
   "execution_count": 1,
   "id": "63d0c735-dd75-4faf-b72c-a4b583580925",
   "metadata": {},
   "outputs": [],
   "source": [
    "import os\n",
    "import pandas as pd\n",
    "import geopandas as gpd\n",
    "import zipfile\n",
    "import json\n",
    "import frictionless\n",
    "import sys\n",
    "sys.path.append(os.path.normpath(\"../../morpc-common\"))\n",
    "import morpc"
   ]
  },
  {
   "cell_type": "markdown",
   "id": "c33e5b6d-7960-41f6-8bf3-595558ef5952",
   "metadata": {},
   "source": [
    "### Parameters"
   ]
  },
  {
   "cell_type": "markdown",
   "id": "3a1da9c2-1ae6-475b-9015-96c9d829dde9",
   "metadata": {},
   "source": [
    "#### Static Parameters"
   ]
  },
  {
   "cell_type": "code",
   "execution_count": 2,
   "id": "2154c339-bb80-404a-a58f-e9035fbb150a",
   "metadata": {},
   "outputs": [],
   "source": [
    "# Define directories and file paths\n",
    "OUTPUT_DIR = os.path.normpath(\"./output_data\")\n",
    "INPUT_DIR = os.path.normpath(\"./input_data\")\n",
    "\n",
    "# Define INPUT file name and path for zip, csv, and xlsx\n",
    "ZIP_NAME = 'Future_Land_use__MTP2024_parcels_Symbology.zip'\n",
    "ZIP_INPUT_PATH = os.path.join(INPUT_DIR, ZIP_NAME)\n",
    "FUTURE_LAND_USE_INPUT_NAME = \"Future_Land_use__MTP2024_parcels_Symbology.csv\"\n",
    "FUTURE_LAND_USE_INPUT_PATH = os.path.join(INPUT_DIR, FUTURE_LAND_USE_INPUT_NAME)\n",
    "TYPE_DESCIP_NAME = \"LU_Standardized LandUse Type Descriptions.xlsx\"\n",
    "TYPE_DESCIP_PATH = os.path.join(INPUT_DIR, TYPE_DESCIP_NAME)\n",
    "\n",
    "# Define OUTPUT shapefile name and path for data, schema, and resource files\n",
    "output_shapefile_dir = os.path.join(OUTPUT_DIR, 'filtered_shapefile')\n",
    "output_shapefile_path = os.path.join(output_shapefile_dir, 'filtered_data.shp')\n",
    "ZIP_NAME = 'Future_Land_use__MTP2024_filtered.zip'\n",
    "ZIP_OUTPUT_PATH = os.path.join(OUTPUT_DIR, ZIP_NAME)\n",
    "SHAPEFILE_RESOURCE_FILE_PATH = os.path.join(OUTPUT_DIR, 'Future_Land_use__MTP2024_filtered_resource.yaml')\n",
    "\n",
    "# Define SPLIT DEFINITIONS file name and path for data, schema, and resource files\n",
    "TYPE_DESCIP_LUT_NAME = 'Land_Use_Types_descriptions.csv'\n",
    "TYPE_DESCIP_LUT_PATH = os.path.join(OUTPUT_DIR, TYPE_DESCIP_LUT_NAME)\n",
    "TYPE_DESCIP_MIXU_NAME = 'Mixed_Use_descriptions.csv'\n",
    "TYPE_DESCIP_MIXU_PATH = os.path.join(OUTPUT_DIR, TYPE_DESCIP_MIXU_NAME)\n",
    "TYPE_DESCIP_LUT_RESOURCE_NAME = 'Land_Use_Types_descriptions_resource.yaml'\n",
    "TYPE_DESCIP_LUT_RESOURCE_PATH = os.path.join(OUTPUT_DIR, TYPE_DESCIP_LUT_RESOURCE_NAME)\n",
    "TYPE_DESCIP_MIXU_RESOURCE_NAME = 'Mixed_Use_descriptions_resource.yaml'\n",
    "TYPE_DESCIP_MIXU_RESOURCE_PATH = os.path.join(OUTPUT_DIR, TYPE_DESCIP_MIXU_RESOURCE_NAME)\n",
    "\n",
    "# Define non-geographic attributes file name and path for data, schema, and resource files\n",
    "FUTURE_LAND_USE_ATTRIB_OUTPUT_NAME = \"Future_Land_use_attributes.csv\"\n",
    "FUTURE_LAND_USE_ATTRIB_OUTPUT_PATH = os.path.join(OUTPUT_DIR, FUTURE_LAND_USE_ATTRIB_OUTPUT_NAME)\n",
    "ATTRIBUTES_SCHEMA_NAME = 'Future_Land_use_attributes_schema.yaml'\n",
    "ATTRIBUTES_SCHEMA_PATH = os.path.join(OUTPUT_DIR, ATTRIBUTES_SCHEMA_NAME)\n",
    "ATTRIBUTES_RESOURCE_NAME = 'Future_Land_use_attributes_resource.yaml'\n",
    "ATTRIBUTES_RESOURCE_PATH = os.path.join(OUTPUT_DIR, ATTRIBUTES_RESOURCE_NAME)\n",
    "\n",
    "# Define file name and path for zipped RO-Crate and metadata\n",
    "RO_CRATE_METADATA_NAME = 'ro-crate-metadata.json'\n",
    "RO_CRATE_METADATA_PATH = os.path.join(OUTPUT_DIR, RO_CRATE_METADATA_NAME)\n",
    "RO_CRATE_NAME = 'future-land-use-crated.zip'\n",
    "RO_CRATE_PATH = os.path.join(OUTPUT_DIR, RO_CRATE_NAME)\n",
    "\n",
    "# Define file name and path for GeoPackage\n",
    "OUTPUT_GEOPACKAGE_NAME = 'Future_Land_use.gpkg'\n",
    "OUTPUT_GEOPACKAGE_PATH = os.path.join(OUTPUT_DIR, OUTPUT_GEOPACKAGE_NAME)"
   ]
  },
  {
   "cell_type": "markdown",
   "id": "0679d8c8-2a0f-4ab6-8e8f-cacb576001c6",
   "metadata": {},
   "source": [
    "### Define Inputs"
   ]
  },
  {
   "cell_type": "code",
   "execution_count": 3,
   "id": "cb96e6ab-13c1-46c9-8aca-0c764cd8a867",
   "metadata": {},
   "outputs": [
    {
     "name": "stdout",
     "output_type": "stream",
     "text": [
      "Zipped Future Land Use shapefile stored as: input_data\\Future_Land_use__MTP2024_parcels_Symbology.zip\n",
      "Future Land Use '.csv' stored as: input_data\\Future_Land_use__MTP2024_parcels_Symbology.csv\n",
      "Land Use Type Desciptions stored as: input_data\\LU_Standardized LandUse Type Descriptions.xlsx\n"
     ]
    }
   ],
   "source": [
    "print(\"Zipped Future Land Use shapefile stored as: {}\".format(ZIP_INPUT_PATH))\n",
    "print(\"Future Land Use '.csv' stored as: {}\".format(FUTURE_LAND_USE_INPUT_PATH))\n",
    "print(\"Land Use Type Desciptions stored as: {}\".format(TYPE_DESCIP_PATH))"
   ]
  },
  {
   "cell_type": "markdown",
   "id": "1174ac7d-b778-4d0f-92d2-ee26328ab416",
   "metadata": {},
   "source": [
    "### Define Outputs"
   ]
  },
  {
   "cell_type": "code",
   "execution_count": 4,
   "id": "530351e2-e5b2-420f-854d-b97236b3353a",
   "metadata": {},
   "outputs": [
    {
     "name": "stdout",
     "output_type": "stream",
     "text": [
      "Filtered RO-Crate saved as: output_data\\future-land-use-crated.zip\n",
      "Exported GeoPackage saved as: output_data\\Future_Land_use.gpkg\n"
     ]
    }
   ],
   "source": [
    "print(\"Filtered RO-Crate saved as: {}\".format(RO_CRATE_PATH))\n",
    "print(\"Exported GeoPackage saved as: {}\".format(OUTPUT_GEOPACKAGE_PATH))"
   ]
  },
  {
   "cell_type": "markdown",
   "id": "c202f0d7-89b5-4a74-8f72-4c9032770350",
   "metadata": {},
   "source": [
    "## Code!"
   ]
  },
  {
   "cell_type": "markdown",
   "id": "10a9623c-7c72-499a-9e2a-db90c956c33b",
   "metadata": {},
   "source": [
    "### Step 1: Read shapefile input, filter for geometer and OBJECTID, and save as new shapefile .zip"
   ]
  },
  {
   "cell_type": "code",
   "execution_count": 5,
   "id": "0aedf0fe-b22f-4bfd-9046-b2e7d34306b0",
   "metadata": {},
   "outputs": [],
   "source": [
    "# Load the data\n",
    "gdf = gpd.read_file(f'zip://{ZIP_INPUT_PATH}')\n",
    "\n",
    "# Filter to retain only the unique ID and 'geometry' fields\n",
    "required_fields = ['OBJECTID', 'geometry']\n",
    "filtered_gdf = gdf[required_fields]\n",
    "\n",
    "# Export the filtered GeoDataFrame to a Shapefile\n",
    "filtered_gdf.to_file(output_shapefile_path, driver='ESRI Shapefile')\n",
    "\n",
    "# Create a new zip file\n",
    "with zipfile.ZipFile(ZIP_OUTPUT_PATH, 'w') as zipf:\n",
    "    for root, _, files in os.walk(output_shapefile_dir):\n",
    "        for file in files:\n",
    "            file_path = os.path.join(root, file)\n",
    "            zipf.write(file_path, os.path.relpath(file_path, output_shapefile_dir))"
   ]
  },
  {
   "cell_type": "markdown",
   "id": "07ecc742-5661-4e62-b069-f8db2aaf2afe",
   "metadata": {},
   "source": [
    "### Step 2: Split the input CSV and Excel file, save non-geographic csv feilds"
   ]
  },
  {
   "cell_type": "code",
   "execution_count": 6,
   "id": "7c7002ee-b4c5-4ec6-9d04-d6ff9dcb4b2a",
   "metadata": {},
   "outputs": [],
   "source": [
    "# Define data types for the CSV file\n",
    "dtype = {\n",
    "    'OBJECTID': 'int',\n",
    "    'ExLU21': 'str',\n",
    "    'FutLU21': 'str',\n",
    "    'MIXcode': 'str',\n",
    "    'JoinAll': 'str',\n",
    "    'Place': 'str',\n",
    "    'last_edited_date': 'str',\n",
    "    'County': 'str',\n",
    "    'FUTsimple': 'str'\n",
    "}\n",
    "\n",
    "# Load the CSV file with specified data types\n",
    "data_df = pd.read_csv(FUTURE_LAND_USE_INPUT_PATH, dtype=dtype)\n",
    "\n",
    "# Split the dataset into CSV without 'Shape__Area', 'Shape__Length'\n",
    "attributes_df = data_df.drop(columns=['Shape__Area', 'Shape__Length'])\n",
    "attributes_df['OBJECTID'] = data_df['OBJECTID']  # Add unique identifier back\n",
    "\n",
    "# Save the CSV\n",
    "attributes_df.to_csv(FUTURE_LAND_USE_ATTRIB_OUTPUT_PATH, index=False)\n",
    "attributes_df.head()\n",
    "\n",
    "# Load each sheet into a DataFrame\n",
    "land_use_df = pd.read_excel(TYPE_DESCIP_PATH, sheet_name='Land Use Types')\n",
    "mixed_use_df = pd.read_excel(TYPE_DESCIP_PATH, sheet_name='Mixed Use')\n",
    "\n",
    "mixed_use_df.dropna(inplace=True)\n",
    "mixed_use_df = mixed_use_df.apply(lambda x: x.str.strip() if x.dtype == \"object\" else x)\n",
    "mixed_use_df = mixed_use_df[(mixed_use_df != '').all(axis=1)]\n",
    "\n",
    "land_use_df.dropna(inplace=True)\n",
    "land_use_df = land_use_df.apply(lambda x: x.str.strip() if x.dtype == \"object\" else x)\n",
    "land_use_df = land_use_df[(land_use_df != '').all(axis=1)]\n",
    "\n",
    "land_use_df.to_csv(TYPE_DESCIP_LUT_PATH, index=False)\n",
    "mixed_use_df.to_csv(TYPE_DESCIP_MIXU_PATH, index=False)"
   ]
  },
  {
   "cell_type": "markdown",
   "id": "e181046b-e05a-4e95-b104-b1ecd5822d51",
   "metadata": {},
   "source": [
    "### Step 3: Create and validate resource files"
   ]
  },
  {
   "cell_type": "markdown",
   "id": "db90ab16-0bfc-42b9-89d4-9bd6cf75f1cc",
   "metadata": {},
   "source": [
    "#### Non-Geographic attribute csv resource"
   ]
  },
  {
   "cell_type": "code",
   "execution_count": 7,
   "id": "b418edad-107e-490d-bbfc-f8bb467ecd51",
   "metadata": {},
   "outputs": [
    {
     "name": "stdout",
     "output_type": "stream",
     "text": [
      "Writing resource file to output_data\\Future_Land_use_attributes_resource.yaml\n",
      "Validating resource on disk (including data and schema). This may take some time.\n",
      "Resource is valid\n",
      "\n"
     ]
    }
   ],
   "source": [
    "if os.path.exists(FUTURE_LAND_USE_ATTRIB_OUTPUT_PATH) and os.path.getsize(FUTURE_LAND_USE_ATTRIB_OUTPUT_PATH) > 0:\n",
    "\n",
    "    df_temp = pd.read_csv(FUTURE_LAND_USE_ATTRIB_OUTPUT_PATH, low_memory = False)\n",
    "\n",
    "    # Resource creation for WIDE ANNUAL\n",
    "    if not df_temp.empty:\n",
    "        acsResource = {\n",
    "            \"name\": \"future_land_use__attribute\",\n",
    "            \"title\": \"future_land_use__attribute\",\n",
    "            \"description\": \"future_land_use__attribute\",\n",
    "            \"path\": FUTURE_LAND_USE_ATTRIB_OUTPUT_NAME,\n",
    "            \"format\": \"csv\",\n",
    "            \"mediatype\": \"text/csv\",\n",
    "            \"encoding\": \"utf-8\",\n",
    "            \"bytes\": os.path.getsize(FUTURE_LAND_USE_ATTRIB_OUTPUT_PATH),\n",
    "            \"hash\": morpc.md5(FUTURE_LAND_USE_ATTRIB_OUTPUT_PATH),\n",
    "            \"schema\": ATTRIBUTES_SCHEMA_NAME,\n",
    "            \"profile\":'tabular-data-resource'\n",
    "        }\n",
    "    \n",
    "        # Create the resource object\n",
    "        resource = frictionless.Resource(acsResource)\n",
    "\n",
    "        print(\"Writing resource file to {}\".format(ATTRIBUTES_RESOURCE_PATH))\n",
    "        cwd = os.getcwd()\n",
    "        os.chdir(os.path.dirname(ATTRIBUTES_RESOURCE_PATH))\n",
    "        dummy = resource.to_yaml(os.path.basename(ATTRIBUTES_RESOURCE_PATH))\n",
    "        os.chdir(cwd)\n",
    "    \n",
    "        print(\"Validating resource on disk (including data and schema). This may take some time.\")\n",
    "        resourceOnDisk = frictionless.Resource(ATTRIBUTES_RESOURCE_PATH)\n",
    "        results = resourceOnDisk.validate()\n",
    "        if(results.valid):\n",
    "            print(\"Resource is valid\\n\")\n",
    "        else:\n",
    "            print(\"ERROR: Resource is NOT valid. Errors follow.\\n\")\n",
    "            print(results)\n",
    "            raise RuntimeError\n",
    "\n",
    "else:\n",
    "    print(f\"{FUTURE_LAND_USE_ATTRIB_OUTPUT_PATH} does not exist or is empty\\n\")"
   ]
  },
  {
   "cell_type": "markdown",
   "id": "0441f54f-576c-4aee-87e4-611380c02aa7",
   "metadata": {},
   "source": [
    "#### Land Use Types descriptions resource"
   ]
  },
  {
   "cell_type": "code",
   "execution_count": 8,
   "id": "0542f357-138f-4c5c-8165-388078115a49",
   "metadata": {},
   "outputs": [
    {
     "name": "stdout",
     "output_type": "stream",
     "text": [
      "Writing resource file to output_data\\Land_Use_Types_descriptions_resource.yaml\n",
      "Validating resource on disk (including data and schema). This may take some time.\n",
      "Resource is valid\n",
      "\n"
     ]
    }
   ],
   "source": [
    "if os.path.exists(TYPE_DESCIP_LUT_PATH) and os.path.getsize(TYPE_DESCIP_LUT_PATH) > 0:\n",
    "\n",
    "    df_temp = pd.read_csv(TYPE_DESCIP_LUT_PATH)\n",
    "\n",
    "    # Define the schema\n",
    "    schema = {\n",
    "        \"fields\": [\n",
    "            {\"name\": \"Code\", \"type\": \"string\", \"constraints\": {\"required\": True}},\n",
    "            {\"name\": \"Land Use\", \"type\": \"string\", \"constraints\": {\"required\": True}},\n",
    "            {\"name\": \"Land Use Description\", \"type\": \"string\", \"constraints\": {\"required\": True}}\n",
    "        ],\n",
    "        \"primaryKey\": [\"Code\"]\n",
    "    }\n",
    "\n",
    "\n",
    "    # Resource creation for WIDE ANNUAL\n",
    "    if not df_temp.empty:\n",
    "        acsResource = {\n",
    "            \"name\": \"land_use_types_descriptions\",\n",
    "            \"title\": \"land_use_types_descriptions\",\n",
    "            \"description\": \"land_use_types_descriptions\",\n",
    "            \"path\": TYPE_DESCIP_LUT_NAME,\n",
    "            \"format\": \"csv\",\n",
    "            \"mediatype\": \"text/csv\",\n",
    "            \"encoding\": \"utf-8\",\n",
    "            \"bytes\": os.path.getsize(TYPE_DESCIP_LUT_PATH),\n",
    "            \"hash\": morpc.md5(TYPE_DESCIP_LUT_PATH),\n",
    "            \"schema\": schema,\n",
    "            \"profile\":'tabular-data-resource'\n",
    "        }\n",
    "    \n",
    "        # Create the resource object\n",
    "        resource = frictionless.Resource(acsResource)\n",
    "\n",
    "        print(\"Writing resource file to {}\".format(TYPE_DESCIP_LUT_RESOURCE_PATH))\n",
    "        cwd = os.getcwd()\n",
    "        os.chdir(os.path.dirname(TYPE_DESCIP_LUT_RESOURCE_PATH))\n",
    "        dummy = resource.to_yaml(os.path.basename(TYPE_DESCIP_LUT_RESOURCE_PATH))\n",
    "        os.chdir(cwd)\n",
    "    \n",
    "        print(\"Validating resource on disk (including data and schema). This may take some time.\")\n",
    "        resourceOnDisk = frictionless.Resource(TYPE_DESCIP_LUT_RESOURCE_PATH)\n",
    "        results = resourceOnDisk.validate()\n",
    "        if(results.valid):\n",
    "            print(\"Resource is valid\\n\")\n",
    "        else:\n",
    "            print(\"ERROR: Resource is NOT valid. Errors follow.\\n\")\n",
    "            print(results)\n",
    "            raise RuntimeError\n",
    "\n",
    "else:\n",
    "    print(f\"{TYPE_DESCIP_LUT_RESOURCE_PATH} does not exist or is empty\\n\")"
   ]
  },
  {
   "cell_type": "markdown",
   "id": "c483cf53-805d-417c-b286-a4f283f1c001",
   "metadata": {},
   "source": [
    "#### Mixed use desciptions resource "
   ]
  },
  {
   "cell_type": "code",
   "execution_count": 9,
   "id": "8760e786-539d-4a43-bc10-49a8035ecd5f",
   "metadata": {},
   "outputs": [
    {
     "name": "stdout",
     "output_type": "stream",
     "text": [
      "Writing resource file to output_data\\Mixed_Use_descriptions_resource.yaml\n",
      "Validating resource on disk (including data and schema). This may take some time.\n",
      "Resource is valid\n",
      "\n"
     ]
    }
   ],
   "source": [
    "if os.path.exists(TYPE_DESCIP_MIXU_PATH) and os.path.getsize(TYPE_DESCIP_MIXU_PATH) > 0:\n",
    "\n",
    "    # Define the schema\n",
    "    schema = {\n",
    "        \"fields\": [\n",
    "            {\"name\": \"Commercial sqft/acre\", \"type\": \"string\"},\n",
    "            {\"name\": \"Plan DU/Acre\", \"type\": \"string\"},\n",
    "            {\"name\": \"MORPC Res du/acre\", \"type\": \"string\"},\n",
    "            {\"name\": \"Industrial sqft/acre\", \"type\": \"string\"},\n",
    "            {\"name\": \"Office sqft/acre\", \"type\": \"string\"},\n",
    "            {\"name\": \"Proportion of Site by Use (Include only relevant uses in the following order C/R/I/O)\", \"type\": \"string\"},\n",
    "            {\"name\": \"MixType\", \"type\": \"string\", \"constraints\": {\"required\": True}},\n",
    "            {\"name\": \"Description(based on various local plans)\", \"type\": \"string\", \"constraints\": {\"required\": True}}\n",
    "        ]\n",
    "    }\n",
    "\n",
    "    # Resource creation for WIDE ANNUAL\n",
    "    if not df_temp.empty:\n",
    "        acsResource = {\n",
    "            \"name\": \"mixed_use_descriptions\",\n",
    "            \"title\": \"mixed_use_descriptions\",\n",
    "            \"description\": \"mixed_use_descriptions\",\n",
    "            \"path\": TYPE_DESCIP_MIXU_NAME,\n",
    "            \"format\": \"csv\",\n",
    "            \"mediatype\": \"text/csv\",\n",
    "            \"encoding\": \"utf-8\",\n",
    "            \"bytes\": os.path.getsize(TYPE_DESCIP_MIXU_PATH),\n",
    "            \"hash\": morpc.md5(TYPE_DESCIP_MIXU_PATH),\n",
    "            \"schema\": schema,\n",
    "            \"profile\":'tabular-data-resource'\n",
    "        }\n",
    "    \n",
    "        # Create the resource object\n",
    "        resource = frictionless.Resource(acsResource)\n",
    "\n",
    "        print(\"Writing resource file to {}\".format(TYPE_DESCIP_MIXU_RESOURCE_PATH))\n",
    "        cwd = os.getcwd()\n",
    "        os.chdir(os.path.dirname(TYPE_DESCIP_MIXU_RESOURCE_PATH))\n",
    "        dummy = resource.to_yaml(os.path.basename(TYPE_DESCIP_MIXU_RESOURCE_PATH))\n",
    "        os.chdir(cwd)\n",
    "    \n",
    "        print(\"Validating resource on disk (including data and schema). This may take some time.\")\n",
    "        resourceOnDisk = frictionless.Resource(TYPE_DESCIP_MIXU_RESOURCE_PATH)\n",
    "        results = resourceOnDisk.validate()\n",
    "        if(results.valid):\n",
    "            print(\"Resource is valid\\n\")\n",
    "        else:\n",
    "            print(\"ERROR: Resource is NOT valid. Errors follow.\\n\")\n",
    "            print(results)\n",
    "            raise RuntimeError\n",
    "\n",
    "else:\n",
    "    print(f\"{TYPE_DESCIP_MIXU_RESOURCE_PATH} does not exist or is empty\\n\")"
   ]
  },
  {
   "cell_type": "markdown",
   "id": "382a04f6-9fc4-4240-9927-974fcea6c051",
   "metadata": {},
   "source": [
    "#### Filtered shapefile resource"
   ]
  },
  {
   "cell_type": "code",
   "execution_count": 10,
   "id": "95fa9172-fe2d-4a2e-b02f-f82b2fb0a2fa",
   "metadata": {},
   "outputs": [
    {
     "name": "stdout",
     "output_type": "stream",
     "text": [
      "Writing resource file to output_data\\Future_Land_use__MTP2024_filtered_resource.yaml\n",
      "Validating resource on disk (including data and schema). This may take some time.\n",
      "Resource is valid\n",
      "\n"
     ]
    }
   ],
   "source": [
    "import hashlib\n",
    "\n",
    "# Define the schema\n",
    "schema = {\n",
    "    \"fields\": [\n",
    "        {\"name\": \"OBJECTID\", \"type\": \"integer\", \"constraints\": {\"required\": True}},\n",
    "        {\"name\": \"geometry\", \"type\": \"string\", \"constraints\": {\"required\": True}}\n",
    "    ]\n",
    "}\n",
    "\n",
    "\n",
    "acsResource = {\n",
    "    \"name\": \"future_land_use__mtp2024_filtered\",\n",
    "    \"title\": \"Future Land Use MTP 2024 Filtered Parcels Symbology\",\n",
    "    \"description\": \"Filtered shapefile containing the OBJECTID and geometry fields.\",\n",
    "    \"path\": ZIP_NAME,\n",
    "    \"format\": \"zip\",\n",
    "    \"mediatype\": \"application/zip\",\n",
    "    \"encoding\": \"utf-8\",\n",
    "    \"bytes\": os.path.getsize(ZIP_OUTPUT_PATH),\n",
    "    \"hash\": hashlib.md5(open(ZIP_OUTPUT_PATH, 'rb').read()).hexdigest(),\n",
    "    \"schema\": schema,\n",
    "    \"profile\": 'data-resource'\n",
    "}\n",
    "\n",
    "# Create the resource object\n",
    "resource = frictionless.Resource(acsResource)\n",
    "\n",
    "print(\"Writing resource file to {}\".format(SHAPEFILE_RESOURCE_FILE_PATH))\n",
    "cwd = os.getcwd()\n",
    "os.chdir(os.path.dirname(SHAPEFILE_RESOURCE_FILE_PATH))\n",
    "resource.to_yaml(os.path.basename(SHAPEFILE_RESOURCE_FILE_PATH))\n",
    "os.chdir(cwd)\n",
    "\n",
    "print(\"Validating resource on disk (including data and schema). This may take some time.\")\n",
    "resourceOnDisk = frictionless.Resource(SHAPEFILE_RESOURCE_FILE_PATH)\n",
    "results = resourceOnDisk.validate()\n",
    "if results.valid:\n",
    "    print(\"Resource is valid\\n\")\n",
    "else:\n",
    "    print(\"ERROR: Resource is NOT valid. Errors follow.\\n\")\n",
    "    print(results)\n",
    "    raise RuntimeError"
   ]
  },
  {
   "cell_type": "markdown",
   "id": "c8b36528-3ad8-4552-bcc3-3f7f127c34c2",
   "metadata": {},
   "source": [
    "### Step 4: Preparing RO Crate"
   ]
  },
  {
   "cell_type": "code",
   "execution_count": 11,
   "id": "7430f3c4-a27a-4702-8471-b95f8e0910a9",
   "metadata": {},
   "outputs": [
    {
     "name": "stdout",
     "output_type": "stream",
     "text": [
      "RO-Crate has been saved to output_data\\future-land-use-crated.zip\n"
     ]
    }
   ],
   "source": [
    "# Package the RO-Crate into a ZIP file\n",
    "with zipfile.ZipFile(RO_CRATE_PATH, 'w') as ro_zip:\n",
    "    ro_zip.write(RO_CRATE_METADATA_PATH, 'ro-crate-metadata.json')\n",
    "\n",
    "    ro_zip.write(ZIP_OUTPUT_PATH, ZIP_NAME)\n",
    "    ro_zip.write(SHAPEFILE_RESOURCE_FILE_PATH, 'Future_Land_use__MTP2024_filtered_resource.yaml')\n",
    "    \n",
    "    ro_zip.write(FUTURE_LAND_USE_ATTRIB_OUTPUT_PATH, 'Future_Land_use_attributes.csv')\n",
    "    ro_zip.write(ATTRIBUTES_SCHEMA_PATH, ATTRIBUTES_SCHEMA_NAME)\n",
    "    ro_zip.write(ATTRIBUTES_RESOURCE_PATH, ATTRIBUTES_RESOURCE_NAME)\n",
    "    \n",
    "    ro_zip.write(TYPE_DESCIP_LUT_PATH, TYPE_DESCIP_LUT_NAME)\n",
    "    ro_zip.write(TYPE_DESCIP_LUT_RESOURCE_PATH, TYPE_DESCIP_LUT_RESOURCE_NAME)\n",
    "    \n",
    "    ro_zip.write(TYPE_DESCIP_MIXU_PATH, TYPE_DESCIP_MIXU_NAME)\n",
    "    ro_zip.write(TYPE_DESCIP_MIXU_RESOURCE_PATH, TYPE_DESCIP_MIXU_RESOURCE_NAME)\n",
    "\n",
    "print(f\"RO-Crate has been saved to {RO_CRATE_PATH}\")"
   ]
  },
  {
   "cell_type": "markdown",
   "id": "bf05d9dd-845b-47a9-8b91-481ad464e400",
   "metadata": {},
   "source": [
    "### Step 5: Exporting standard GeoPackage from Shapefile geodataframe and CSV dataframe"
   ]
  },
  {
   "cell_type": "code",
   "execution_count": 12,
   "id": "7b6834f5-1a8a-4349-a990-a656be7b6717",
   "metadata": {},
   "outputs": [
    {
     "name": "stdout",
     "output_type": "stream",
     "text": [
      "GeoPackage has been saved to output_data\\Future_Land_use.gpkg\n"
     ]
    }
   ],
   "source": [
    "# Read the CSV file as a dataframe\n",
    "attributes_df = pd.read_csv(FUTURE_LAND_USE_ATTRIB_OUTPUT_PATH, dtype=dtype)\n",
    "\n",
    "# Read the Shapefile as a geodataframe\n",
    "shapefile_gdf = gpd.read_file(output_shapefile_path)\n",
    "\n",
    "# Convert the Shapefile to Ohio State Plane South coordinate reference system\n",
    "shapefile_gdf = shapefile_gdf.to_crs(epsg=3735)\n",
    "\n",
    "# Join the CSV dataframe to the Shapefile geodataframe using the unique identifier field\n",
    "merged_gdf = shapefile_gdf.merge(attributes_df, on='OBJECTID')\n",
    "\n",
    "# Export the resulting geodataframe as a GeoPackage\n",
    "merged_gdf.to_file(OUTPUT_GEOPACKAGE_PATH, driver='GPKG')\n",
    "\n",
    "print(f\"GeoPackage has been saved to {OUTPUT_GEOPACKAGE_PATH}\")"
   ]
  }
 ],
 "metadata": {
  "kernelspec": {
   "display_name": "Python 3 (ipykernel)",
   "language": "python",
   "name": "python3"
  },
  "language_info": {
   "codemirror_mode": {
    "name": "ipython",
    "version": 3
   },
   "file_extension": ".py",
   "mimetype": "text/x-python",
   "name": "python",
   "nbconvert_exporter": "python",
   "pygments_lexer": "ipython3",
   "version": "3.12.4"
  }
 },
 "nbformat": 4,
 "nbformat_minor": 5
}
